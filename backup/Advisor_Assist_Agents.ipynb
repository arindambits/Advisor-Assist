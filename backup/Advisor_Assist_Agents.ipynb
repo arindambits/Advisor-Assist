{
  "cells": [
    {
      "cell_type": "markdown",
      "metadata": {
        "id": "view-in-github",
        "colab_type": "text"
      },
      "source": [
        "<a href=\"https://colab.research.google.com/github/arindambits/Advisor-Assist/blob/main/Advisor_Assist_Agents.ipynb\" target=\"_parent\"><img src=\"https://colab.research.google.com/assets/colab-badge.svg\" alt=\"Open In Colab\"/></a>"
      ]
    },
    {
      "cell_type": "code",
      "execution_count": null,
      "id": "b3ff53b4",
      "metadata": {
        "colab": {
          "base_uri": "https://localhost:8080/"
        },
        "id": "b3ff53b4",
        "outputId": "b32fa3d2-8246-4b8d-e2c2-ca1e19dcfd28"
      },
      "outputs": [
        {
          "output_type": "stream",
          "name": "stdout",
          "text": [
            "\u001b[2K   \u001b[90m━━━━━━━━━━━━━━━━━━━━━━━━━━━━━━━━━━━━━━━━\u001b[0m \u001b[32m2.5/2.5 MB\u001b[0m \u001b[31m25.1 MB/s\u001b[0m eta \u001b[36m0:00:00\u001b[0m\n",
            "\u001b[2K   \u001b[90m━━━━━━━━━━━━━━━━━━━━━━━━━━━━━━━━━━━━━━━━\u001b[0m \u001b[32m42.0/42.0 kB\u001b[0m \u001b[31m3.2 MB/s\u001b[0m eta \u001b[36m0:00:00\u001b[0m\n",
            "\u001b[2K   \u001b[90m━━━━━━━━━━━━━━━━━━━━━━━━━━━━━━━━━━━━━━━━\u001b[0m \u001b[32m31.3/31.3 MB\u001b[0m \u001b[31m58.9 MB/s\u001b[0m eta \u001b[36m0:00:00\u001b[0m\n",
            "\u001b[2K   \u001b[90m━━━━━━━━━━━━━━━━━━━━━━━━━━━━━━━━━━━━━━━━\u001b[0m \u001b[32m45.2/45.2 kB\u001b[0m \u001b[31m3.6 MB/s\u001b[0m eta \u001b[36m0:00:00\u001b[0m\n",
            "\u001b[2K   \u001b[90m━━━━━━━━━━━━━━━━━━━━━━━━━━━━━━━━━━━━━━━━\u001b[0m \u001b[32m50.9/50.9 kB\u001b[0m \u001b[31m4.5 MB/s\u001b[0m eta \u001b[36m0:00:00\u001b[0m\n",
            "\u001b[?25hMounted at /content/drive\n"
          ]
        }
      ],
      "source": [
        "#Multi-Agent Advisor Assist Framework with LangChain + Gemini\n",
        "\n",
        "# Step 1: Install Dependencies\n",
        "!pip install langchain langchain-community langchain-google-genai google-generativeai faiss-cpu --quiet\n",
        "\n",
        "\n",
        "from google.colab import drive\n",
        "drive.mount('/content/drive')\n"
      ]
    },
    {
      "cell_type": "markdown",
      "metadata": {
        "id": "b117936b"
      },
      "source": [
        "# Multi-Agent Financial Advisor Assistant\n",
        "\n",
        "This notebook demonstrates a multi-agent framework for financial advisory services using LangChain and Google's Gemini Pro model. The system uses a ReAct (Reasoning and Acting) agent to interact with a suite of tools, each designed to handle a specific aspect of financial advising."
      ],
      "id": "b117936b"
    },
    {
      "cell_type": "code",
      "metadata": {
        "id": "6b4480ef"
      },
      "source": [
        "# Step 2: Setup Google Gemini LLM and Embeddings\n",
        "import os\n",
        "from langchain_google_genai import ChatGoogleGenerativeAI, GoogleGenerativeAIEmbeddings\n",
        "from google.colab import userdata\n",
        "\n",
        "GOOGLE_API_KEY = userdata.get(\"GOOGLE_API_KEY\")\n",
        "os.environ[\"GOOGLE_API_KEY\"] = GOOGLE_API_KEY\n",
        "\n",
        "# llm = ChatGoogleGenerativeAI(model=\"gemini-pro\")\n",
        "# llm = ChatGoogleGenerativeAI(model=\"gemini-2.5-flash\", temperature=0.7)\n",
        "llm = ChatGoogleGenerativeAI(model=\"gemini-1.5-flash\", temperature=0.7)\n",
        "embedding_model = GoogleGenerativeAIEmbeddings(model=\"models/embedding-001\")"
      ],
      "id": "6b4480ef",
      "execution_count": null,
      "outputs": []
    },
    {
      "cell_type": "markdown",
      "source": [
        "###Create a Lightweight DB\n",
        "\n",
        "We are using SQLite3 for teh same\n"
      ],
      "metadata": {
        "id": "Wsmye7k74C2V"
      },
      "id": "Wsmye7k74C2V"
    },
    {
      "cell_type": "code",
      "source": [
        "\n",
        "import sqlite3\n",
        "import pandas as pd\n",
        "\n",
        "# from google.colab import drive\n",
        "# drive.mount('/content/drive')\n",
        "\n",
        "pd.set_option(\"display.max_columns\", None)        # show all columns\n",
        "pd.set_option(\"display.expand_frame_repr\", False) # prevent wrapping\n",
        "pd.set_option(\"display.max_colwidth\", None)       # show full text in columns\n",
        "\n",
        "db_path = '/content/drive/MyDrive/Colab Notebooks/Supporting_Files/Database/customer_data.db'\n",
        "\n",
        "\n",
        "# Connect to the uploaded database\n",
        "conn = sqlite3.connect(db_path)\n",
        "\n",
        "cursor = conn.cursor()\n",
        "\n",
        "# Execute the create_tables.sql script\n",
        "with open('/content/drive/MyDrive/Colab Notebooks/Supporting_Files/Database/advisor_assist_schema_Creation.sql', 'r') as f:\n",
        "   cursor.executescript(f.read())\n",
        "\n",
        "# Execute the insert_data.sql script\n",
        "with open('/content/drive/MyDrive/Colab Notebooks/Supporting_Files/Database/advisor_assist_insertscript.sql', 'r') as f:\n",
        " cursor.executescript(f.read())\n",
        "\n",
        "\n",
        "# Dictionary of table names and their respective variable names\n",
        "tables = {\n",
        "    \"PersonalDemographics\": \"demographics_df\",\n",
        "    \"FinancialTransactionDataView\": \"transactions_df\",\n",
        "    \"ProductAndServiceUsage\": \"usage_df\",\n",
        "    \"clients\": \"clients_df\",\n",
        "    \"portfolios\": \"portfolios_df\",\n",
        "    \"risk_profiles\": \"risk_profiles_df\",\n",
        "    \"goal_recommendations\": \"goal_recommendations_df\",\n",
        "    \"portfolio_analysis_summary\": \"portfolio_analysis_summary_df\"\n",
        "}\n",
        "\n",
        "# Loop to query and print each table\n",
        "for table_name, var_name in tables.items():\n",
        "    print(f\"\\n--- Table: {table_name} ---\")\n",
        "    df = pd.read_sql_query(f\"SELECT * FROM {table_name}\", conn)\n",
        "    # print(df)\n",
        "\n",
        "conn.close()\n"
      ],
      "metadata": {
        "colab": {
          "base_uri": "https://localhost:8080/"
        },
        "id": "i5sQVUXN_JGQ",
        "outputId": "25fc10a2-c47a-471f-935f-1740d90a14e3",
        "collapsed": true
      },
      "id": "i5sQVUXN_JGQ",
      "execution_count": null,
      "outputs": [
        {
          "output_type": "stream",
          "name": "stdout",
          "text": [
            "Drive already mounted at /content/drive; to attempt to forcibly remount, call drive.mount(\"/content/drive\", force_remount=True).\n",
            "\n",
            "--- Table: PersonalDemographics ---\n",
            "  CustomerID FirstName   LastName DateOfBirth  Gender MaritalStatus EducationLevel EmploymentStatus  AnnualIncome GeographicLocation\n",
            "0       C001      John        Doe  1976-09-19    Male       Married       Graduate         Employed      120000.0                USA\n",
            "1       C002      Ajay     Sharma  1986-09-28    Male        Single   Postgraduate    Self-Employed       95000.0              India\n",
            "2       C003     Maria  Fernandez  1993-11-03  Female        Single       Graduate         Employed       70000.0              India\n",
            "\n",
            "--- Table: FinancialTransactionDataView ---\n",
            "    TransactionID client_id TransactionDate TransactionType    Amount TransactionCategory  PaymentMethod  MerchantDetails\n",
            "0             101      C002      2024-06-17            Sold  18417.82              Equity  Bank Transfer          Zerodha\n",
            "1             102      C003      2024-06-17             Buy   7897.54              Crypto  Bank Transfer         Coinbase\n",
            "2             103      C003      2024-06-26             Buy  10575.37         Real Estate  Mobile Wallet      Housing.com\n",
            "3             104      C001      2024-06-19             Buy  12343.50                Bond    Credit Card  HDFC Securities\n",
            "4             105      C002      2024-06-25             Buy   3121.03                Bond  Bank Transfer  HDFC Securities\n",
            "5             106      C003      2024-06-28            Sold  10146.35                Bond            UPI  HDFC Securities\n",
            "6             107      C001      2024-06-18             Buy   6052.81         Mutual_Fund            UPI            Groww\n",
            "7             108      C003      2024-06-02             Buy  14423.53       Fixed_Deposit  Mobile Wallet       ICICI Bank\n",
            "8             109      C001      2024-06-19             Buy  15949.91         Mutual_Fund  Mobile Wallet            Groww\n",
            "9             110      C002      2024-06-03             Buy  10060.98       Fixed_Deposit  Mobile Wallet       ICICI Bank\n",
            "10            111      C003      2024-06-10             Buy   2089.84       Fixed_Deposit  Mobile Wallet       ICICI Bank\n",
            "11            112      C001      2024-06-24             Buy  17519.98                Bond            UPI  HDFC Securities\n",
            "12            113      C002      2024-06-05            Sold  16794.89       Fixed_Deposit  Mobile Wallet       ICICI Bank\n",
            "13            114      C002      2024-06-20            Sold  15930.50         Real_Estate  Bank Transfer      Housing.com\n",
            "14            115      C002      2024-06-06             Buy  11719.79                Bond  Mobile Wallet  HDFC Securities\n",
            "\n",
            "--- Table: ProductAndServiceUsage ---\n",
            "   UsageID client_id    ProductName             ServiceUsed   UsageDate UsageFrequency    Channel  FeedbackOrRating\n",
            "0      201      C001         Equity      Mobile Trading App  2024-05-10        Monthly     Mobile                 8\n",
            "1      202      C001           Bond    Portfolio Management  2024-05-15      Quarterly        Web                 9\n",
            "2      203      C001         Crypto          Digital Wallet  2024-05-18         Weekly     Mobile                 7\n",
            "3      204      C002         Equity          Stock Advisory  2024-05-12        Monthly      Phone                 8\n",
            "4      205      C002           Bond            Tax Planning  2024-05-20         Yearly        Web                 7\n",
            "5      206      C002    Real_Estate       Loan Consultation  2024-05-25           Once  In-Person                 6\n",
            "6      207      C003  Fixed_Deposit  Online Deposit Renewal  2024-05-05         Yearly        Web                10\n",
            "7      208      C003    Mutual_Fund              NAV Alerts  2024-05-08        Monthly     Mobile                 9\n",
            "\n",
            "--- Table: clients ---\n",
            "  client_id   name  age    income  net_worth  risk_tolerance_score             segment    occupation location                                    goals\n",
            "0      C001   John   45  120000.0   800000.0                     9       Mass Affluent  Professional      USA                           [\"Retirement\"]\n",
            "1      C002   Ajay   38   95000.0   600000.0                     6  Upper Middle Class    Consultant    India  [\"Buy Second Home\", \"Tax Optimization\"]\n",
            "2      C003  Maria   32   70000.0   300000.0                     3  Young Professional   IT Employee    India                            [\"Buy House\"]\n",
            "\n",
            "--- Table: portfolios ---\n",
            "  portfolio_id client_id    asset_class     ticker  holding_value  allocation_pct  expected_return_pct  volatility_score\n",
            "0         P001      C001         Equity   EQTY_USA       480000.0            60.0                  9.0               0.7\n",
            "1         P002      C001           Bond   BOND_USA       240000.0            30.0                  4.0               0.2\n",
            "2         P003      C001         Crypto    BTC_ETH        80000.0            10.0                 12.0               1.0\n",
            "3         P004      C002         Equity   EQTY_IND       400000.0            60.0                  8.0               0.6\n",
            "4         P005      C002           Bond   BOND_IND       200000.0            30.0                  4.0               0.2\n",
            "5         P006      C002    Real_Estate   PROP_IND       100000.0            10.0                  6.0               0.3\n",
            "6         P007      C003  Fixed_Deposit     FD_IND       200000.0            66.7                  5.0               0.1\n",
            "7         P008      C003    Mutual_Fund  MF_LV_IND       100000.0            33.3                  6.0               0.2\n",
            "\n",
            "--- Table: risk_profiles ---\n",
            "     risk_level  min_score  max_score  recommended_allocation_equity                                                          description\n",
            "0  Conservative          1          4                           30.0  Low risk appetite. Prefers capital preservation and low volatility.\n",
            "1      Moderate          5          7                           50.0        Balanced risk. Comfortable with moderate market fluctuations.\n",
            "2    Aggressive          8         10                           70.0    High risk tolerance. Seeks high returns, accepts high volatility.\n",
            "\n",
            "--- Table: goal_recommendations ---\n",
            "              segment    risk_level                               recommended_goals  planning_horizon_years                goal_priority_order\n",
            "0       Mass Affluent    Aggressive  [\"Retirement Planning\", \"Wealth Accumulation\"]                      10            [\"Retirement Planning\"]\n",
            "1  Upper Middle Class      Moderate               [\"Second Home\", \"Tax Efficiency\"]                       7  [\"Second Home\", \"Tax Efficiency\"]\n",
            "2  Young Professional  Conservative             [\"Home Purchase\", \"Emergency Fund\"]                       5                  [\"Home Purchase\"]\n",
            "\n",
            "--- Table: portfolio_analysis_summary ---\n",
            "  client_id  diversification_score  risk_adjusted_return underexposed_assets overexposed_risks                                                                                        recommendation_summary\n",
            "0      C001                   0.90                   1.3     [\"Commodities\"]        [\"Crypto\"]  Well diversified but slightly high exposure to crypto. Maintain current allocation with regular rebalancing.\n",
            "1      C002                   0.75                   1.0            [\"Cash\"]        [\"Equity\"]                        Good balance, consider reducing equity exposure and exploring debt for tax efficiency.\n",
            "2      C003                   0.50                   0.8          [\"Equity\"]  [\"Fixed Income\"]                                   Very conservative. Suggest adding small exposure to equity or hybrid funds.\n"
          ]
        }
      ]
    },
    {
      "cell_type": "code",
      "source": [
        "def data_query_agent(conn, customer_id):\n",
        "    tables = [\"PersonalDemographics\", \"clients\", \"portfolios\", \"FinancialTransactionDataView\"]\n",
        "\n",
        "    # print(\"\\n--- Table Schemas ---\")\n",
        "    # for table in tables:\n",
        "    #     schema_df = pd.read_sql_query(f\"PRAGMA table_info({table});\", conn)\n",
        "    #     print(f\"\\nSchema for {table}:\\n\", schema_df.to_string(index=False))\n",
        "\n",
        "    # Run the actual joined query\n",
        "    query = \"\"\"\n",
        "    SELECT\n",
        "        pd.CustomerID, pd.FirstName, pd.LastName, pd.DateOfBirth, pd.Gender,\n",
        "        pd.MaritalStatus, pd.EducationLevel, pd.EmploymentStatus, pd.AnnualIncome,\n",
        "        pd.GeographicLocation,\n",
        "        c.age, c.income, c.net_worth, c.risk_tolerance_score, c.segment,\n",
        "        p.asset_class, p.holding_value, p.allocation_pct\n",
        "    FROM PersonalDemographics pd\n",
        "    JOIN clients c ON pd.CustomerID = c.client_id\n",
        "    LEFT JOIN portfolios p ON c.client_id = p.client_id\n",
        "    WHERE pd.CustomerID = ?\n",
        "    \"\"\"\n",
        "\n",
        "    # query = \"\"\"\n",
        "    # SELECT\n",
        "    #     pd.CustomerID, pd.FirstName, pd.LastName, pd.DateOfBirth, pd.Gender,\n",
        "    #     pd.MaritalStatus, pd.EducationLevel, pd.EmploymentStatus, pd.AnnualIncome,\n",
        "    #     pd.GeographicLocation,\n",
        "    #     c.age, c.income, c.net_worth, c.risk_tolerance_score, c.segment,\n",
        "    #     p.asset_class, p.holding_value, p.allocation_pct,\n",
        "    #     f.TransactionType, f.Amount, f.TransactionCategory, f.TransactionDate\n",
        "    # FROM PersonalDemographics pd\n",
        "    # JOIN clients c ON pd.CustomerID = c.client_id\n",
        "    # LEFT JOIN portfolios p ON c.client_id = p.client_id\n",
        "    # LEFT JOIN FinancialTransactionDataView f ON c.client_id = f.client_id\n",
        "    # WHERE pd.CustomerID = ?\n",
        "    # \"\"\"\n",
        "\n",
        "    df = pd.read_sql_query(query, conn, params=(customer_id,))\n",
        "    return df\n"
      ],
      "metadata": {
        "id": "hvrd8p5nxc0Z"
      },
      "id": "hvrd8p5nxc0Z",
      "execution_count": null,
      "outputs": []
    },
    {
      "cell_type": "code",
      "source": [
        "from langchain.prompts import PromptTemplate\n",
        "from langchain.chains import LLMChain\n",
        "\n",
        "# This line was changed in the prompt\n",
        "# You are a senior financial analyst tasked with preparing a profile of a customer\n",
        "# based on their demographic, financial, investment, and transaction data.\n",
        "\n",
        "profile_prompt = PromptTemplate(\n",
        "    input_variables=[\"customer_data\"],\n",
        "    template=\"\"\"\n",
        "You are a senior financial analyst tasked with preparing a profile of a customer\n",
        "based on their demographic, financial, investment.\n",
        "\n",
        "Create a clear and descriptive profile that includes:\n",
        "- Personal Demographics (name, age, education, employment, location)\n",
        "- Risk and Segment Classification\n",
        "- Investment Holdings Summary\n",
        "\n",
        "Only use the data below and structure the summary in paragraphs.\n",
        "\n",
        "Raw Customer Data:\n",
        "{customer_data}\n",
        "\n",
        "Client Profile:\n",
        "\"\"\"\n",
        "\n",
        ")\n",
        "\n",
        "print(\"\\n--- Profile Prompt Template ---\\n\")\n",
        "print(profile_prompt.template)\n",
        "\n",
        "profiling_chain = LLMChain(llm=llm, prompt=profile_prompt)\n",
        "\n",
        "def customer_profiling_agent(df):\n",
        "    customer_data_str = df.to_string(index=False)\n",
        "    # print(\"\\n--- Customer Data ---\\n\")\n",
        "    # print(customer_data_str)\n",
        "    return profiling_chain.run(customer_data=customer_data_str)\n"
      ],
      "metadata": {
        "colab": {
          "base_uri": "https://localhost:8080/"
        },
        "id": "y219Tdvwxls4",
        "outputId": "c75a8033-59f3-410e-b42c-b8dd69cbea3f"
      },
      "id": "y219Tdvwxls4",
      "execution_count": null,
      "outputs": [
        {
          "output_type": "stream",
          "name": "stdout",
          "text": [
            "\n",
            "--- Profile Prompt Template ---\n",
            "\n",
            "\n",
            "You are a senior financial analyst tasked with preparing a profile of a customer\n",
            "based on their demographic, financial, investment.\n",
            "\n",
            "Create a clear and descriptive profile that includes:\n",
            "- Personal Demographics (name, age, education, employment, location)\n",
            "- Risk and Segment Classification\n",
            "- Investment Holdings Summary\n",
            "\n",
            "Only use the data below and structure the summary in paragraphs.\n",
            "\n",
            "Raw Customer Data:\n",
            "{customer_data}\n",
            "\n",
            "Client Profile:\n",
            "\n"
          ]
        }
      ]
    },
    {
      "cell_type": "markdown",
      "metadata": {
        "id": "52ba9a5b"
      },
      "source": [
        "### Step 3: Initialize FAISS In-Memory Vector Store\n",
        "\n",
        "We'll use a FAISS vector store to quickly search and retrieve client information. The sample documents below represent the kind of data a financial advisor might have on their clients."
      ],
      "id": "52ba9a5b"
    },
    {
      "cell_type": "code",
      "metadata": {
        "id": "1b3f543b",
        "colab": {
          "base_uri": "https://localhost:8080/"
        },
        "outputId": "bd9e6e21-b995-4dee-bb0e-15a8b9183aa0"
      },
      "source": [
        "# Step 3: Initialize FAISS In-Memory Vector Store\n",
        "from langchain.vectorstores import FAISS\n",
        "from langchain.schema import Document\n",
        "\n",
        "# Connect to your database\n",
        "conn = sqlite3.connect(db_path)  # or your existing in-memory or disk DB\n",
        "sample_docs = []\n",
        "customer_ids = ['C001', 'C002', 'C003']\n",
        "# customer_ids = ['C001']\n",
        "\n",
        "print(\"\\n--- Generating Client Profiles ---\")\n",
        "for customer_id in customer_ids:\n",
        "    # print(f\"\\nCustomer ID : \", customer_id)\n",
        "\n",
        "    # customer_id = 'C001'\n",
        "    df = data_query_agent(conn, customer_id)\n",
        "    print(\"Raw Query Result:\\n\", df)\n",
        "\n",
        "    # Run Gemini 1.5 based profiling agent\n",
        "    profile_summary = customer_profiling_agent(df)\n",
        "    # print(\"\\n Customer Profile Summary:\\n\")\n",
        "    # print(profile_summary)\n",
        "\n",
        "    # Append a new Document with the profile summary to sample_docs\n",
        "    sample_docs.append(Document(page_content=profile_summary))\n",
        "\n",
        "# sample_docs = [\n",
        "#     Document(page_content=\"Client John is a 45-year-old with high risk tolerance and a goal to retire by 55.\"),\n",
        "#     Document(page_content=\"Client Maria, age 32, is conservative and saving for a house.\"),\n",
        "#     Document(page_content=\"Client Ajay frequently discusses market volatility and shows moderate emotional concern.\"),\n",
        "#     Document(page_content=\"Client John holds a diversified portfolio with 60% equities, 30% bonds, 10% crypto.\"),\n",
        "#     Document(page_content=\"Client Maria prefers fixed deposits and low-volatility mutual funds.\"),\n",
        "#     Document(page_content=\"Client Ajay aims to buy a second home and wants to minimize capital gains tax.\")\n",
        "# ]\n",
        "\n",
        "print(\"\\n ------  Sample Docs Data:\\n\")\n",
        "for doc in sample_docs:\n",
        "  print(doc.page_content)\n",
        "\n",
        "vector_store = FAISS.from_documents(sample_docs, embedding_model)"
      ],
      "id": "1b3f543b",
      "execution_count": null,
      "outputs": [
        {
          "output_type": "stream",
          "name": "stdout",
          "text": [
            "\n",
            "--- Generating Client Profiles ---\n",
            "Raw Query Result:\n",
            "   CustomerID FirstName LastName DateOfBirth Gender MaritalStatus EducationLevel EmploymentStatus  AnnualIncome GeographicLocation  age    income  net_worth  risk_tolerance_score        segment asset_class  holding_value  allocation_pct\n",
            "0       C001      John      Doe  1976-09-19   Male       Married       Graduate         Employed      120000.0                USA   45  120000.0   800000.0                     9  Mass Affluent      Equity       480000.0            60.0\n",
            "1       C001      John      Doe  1976-09-19   Male       Married       Graduate         Employed      120000.0                USA   45  120000.0   800000.0                     9  Mass Affluent        Bond       240000.0            30.0\n",
            "2       C001      John      Doe  1976-09-19   Male       Married       Graduate         Employed      120000.0                USA   45  120000.0   800000.0                     9  Mass Affluent      Crypto        80000.0            10.0\n",
            "Raw Query Result:\n",
            "   CustomerID FirstName LastName DateOfBirth Gender MaritalStatus EducationLevel EmploymentStatus  AnnualIncome GeographicLocation  age   income  net_worth  risk_tolerance_score             segment  asset_class  holding_value  allocation_pct\n",
            "0       C002      Ajay   Sharma  1986-09-28   Male        Single   Postgraduate    Self-Employed       95000.0              India   38  95000.0   600000.0                     6  Upper Middle Class       Equity       400000.0            60.0\n",
            "1       C002      Ajay   Sharma  1986-09-28   Male        Single   Postgraduate    Self-Employed       95000.0              India   38  95000.0   600000.0                     6  Upper Middle Class         Bond       200000.0            30.0\n",
            "2       C002      Ajay   Sharma  1986-09-28   Male        Single   Postgraduate    Self-Employed       95000.0              India   38  95000.0   600000.0                     6  Upper Middle Class  Real_Estate       100000.0            10.0\n",
            "Raw Query Result:\n",
            "   CustomerID FirstName   LastName DateOfBirth  Gender MaritalStatus EducationLevel EmploymentStatus  AnnualIncome GeographicLocation  age   income  net_worth  risk_tolerance_score             segment    asset_class  holding_value  allocation_pct\n",
            "0       C003     Maria  Fernandez  1993-11-03  Female        Single       Graduate         Employed       70000.0              India   32  70000.0   300000.0                     3  Young Professional  Fixed_Deposit       200000.0            66.7\n",
            "1       C003     Maria  Fernandez  1993-11-03  Female        Single       Graduate         Employed       70000.0              India   32  70000.0   300000.0                     3  Young Professional    Mutual_Fund       100000.0            33.3\n",
            "\n",
            " ------  Sample Docs Data:\n",
            "\n",
            "Client Profile: John Doe (C001)\n",
            "\n",
            "John Doe is a 45-year-old male residing in the USA. He is married and holds a graduate degree.  He is currently employed and earns an annual income of $120,000.  His high income and substantial net worth of $800,000 place him firmly within the Mass Affluent segment.  His risk tolerance score of 9 indicates a high willingness to accept risk in his investment strategy.\n",
            "\n",
            "\n",
            "Mr. Doe's investment portfolio reflects his risk profile and segment classification. His holdings are diversified across three major asset classes: Equity, Bond, and Crypto.  A significant portion (60%) of his portfolio is allocated to Equity, representing a holding value of $480,000.  Bonds comprise 30% of his portfolio, with a holding value of $240,000, providing a degree of stability.  The remaining 10% (or $80,000) is invested in Crypto, indicating a higher appetite for potentially higher-return, higher-risk investments.  The overall portfolio demonstrates a balanced approach, combining growth potential with relative security.\n",
            "Client Profile: Ajay Sharma\n",
            "\n",
            "\n",
            "Ajay Sharma is a 38-year-old single male residing in India.  He holds a postgraduate degree and is self-employed, earning an annual income of $95,000.  His high income contributes to a substantial net worth of $600,000.  Based on his risk tolerance score of 6, he is classified as having a moderate-to-high risk tolerance and falls into the \"Upper Middle Class\" customer segment.\n",
            "\n",
            "\n",
            "Ajay's investment portfolio demonstrates a diversified approach.  His holdings are primarily allocated to equities (60%), representing a value of $400,000.  A significant portion (30%) is also invested in bonds, totaling $200,000.  The remaining 10% ($100,000) is allocated to real estate. This allocation suggests a balanced approach to investment, mitigating risk while pursuing growth opportunities across different asset classes.\n",
            "Client Profile: Maria Fernandez (C003)\n",
            "\n",
            "Maria Fernandez is a 32-year-old single female residing in India.  She holds a graduate degree and is currently employed, earning an annual income of $70,000.  Her net worth is $300,000. Based on her risk tolerance score of 3, she is classified as a \"Young Professional\" within a low-to-moderate risk segment.  This suggests a preference for investments with lower risk and potential for moderate growth.\n",
            "\n",
            "Maria's investment portfolio is currently diversified across two asset classes.  A significant portion (66.7%) of her holdings are in Fixed Deposits, totaling $200,000, reflecting a conservative approach to investment.  The remaining 33.3% ($100,000) is allocated to Mutual Funds, suggesting a limited appetite for higher-risk, higher-return investments.  Overall, her portfolio demonstrates a balanced strategy prioritizing capital preservation while incorporating some exposure to market growth through mutual funds.\n"
          ]
        }
      ]
    },
    {
      "cell_type": "markdown",
      "metadata": {
        "id": "c1c2654b"
      },
      "source": [
        "### Step 4: Define Tools (Agents)\n",
        "\n",
        "Each function below acts as a specialized \"tool\" or \"agent\" that the main ReAct agent can use to perform specific tasks."
      ],
      "id": "c1c2654b"
    },
    {
      "cell_type": "code",
      "metadata": {
        "id": "b97147a0"
      },
      "source": [
        "# Step 4: Define Tools (Agents)\n",
        "stored_notes = []\n",
        "k_value = 2\n",
        "def search_client_profile(query: str):\n",
        "    \"\"\"Searches the vector store for client information.\"\"\"\n",
        "    results = vector_store.similarity_search(query, k=k_value)\n",
        "    return \"\\n\".join([doc.page_content for doc in results])\n",
        "\n",
        "def record_client_notes(note: str):\n",
        "    \"\"\"Records a new note about the client.\"\"\"\n",
        "    stored_notes.append(note)\n",
        "    return \"Note recorded.\"\n",
        "\n",
        "def generate_persona(_):\n",
        "    \"\"\"Generates a client persona based on the recorded notes.\"\"\"\n",
        "    return \"\\n\".join([f\"- {note}\" for note in stored_notes]) or \"No notes to summarize.\"\n",
        "\n",
        "def analyze_portfolio(_):\n",
        "    \"\"\"Analyzes the client's current portfolio.\"\"\"\n",
        "    return \"Client's portfolio is moderately diversified. Recommend periodic rebalancing.\"\n",
        "\n",
        "def evaluate_risk(_):\n",
        "    \"\"\"Evaluates the client's risk tolerance.\"\"\"\n",
        "    return \"Based on behavior and holdings, client has moderate risk exposure.\"\n",
        "\n",
        "def recommend_goals(_):\n",
        "    \"\"\"Recommends financial goals for the client.\"\"\"\n",
        "    return \"Suggest increasing equity exposure for early retirement and starting SIP for goal planning.\""
      ],
      "id": "b97147a0",
      "execution_count": null,
      "outputs": []
    },
    {
      "cell_type": "markdown",
      "metadata": {
        "id": "d295077b"
      },
      "source": [
        "### Step 5: Custom Prompt Templates per Tool\n",
        "\n",
        "We create custom prompt templates to guide each specialized agent. This allows us to tailor the instructions for each tool."
      ],
      "id": "d295077b"
    },
    {
      "cell_type": "code",
      "metadata": {
        "id": "bb347ba1"
      },
      "source": [
        "# Step 5: Custom Prompt Templates per Tool\n",
        "from langchain.prompts import PromptTemplate\n",
        "\n",
        "base_prompt = PromptTemplate(\n",
        "    input_variables=[\"input\"],\n",
        "    template=\"\"\"\n",
        "You are a financial advisory assistant. Your job is to take actions using tools to build a client profile.\n",
        "Input: {input}\n",
        "Think step by step and choose one tool at a time to make progress.\n",
        "Respond with Thought, Action, and Action Input.\n",
        "\"\"\"\n",
        ")\n",
        "\n",
        "portfolio_prompt = PromptTemplate(\n",
        "    input_variables=[\"input\"],\n",
        "    template=\"\"\"\n",
        "As a Portfolio Analyzer Agent, review client's asset allocation and diversification based on available profile.\n",
        "Input: {input}\n",
        "Respond with Thought, Action, and Action Input.\n",
        "\"\"\"\n",
        ")\n",
        "\n",
        "risk_prompt = PromptTemplate(\n",
        "    input_variables=[\"input\"],\n",
        "    template=\"\"\"\n",
        "You are a Risk Evaluation Agent. Analyze behavioral data and portfolio exposure to assign a risk profile.\n",
        "Input: {input}\n",
        "Respond with Thought, Action, and Action Input.\n",
        "\"\"\"\n",
        ")\n",
        "\n",
        "goal_prompt = PromptTemplate(\n",
        "    input_variables=[\"input\"],\n",
        "    template=\"\"\"\n",
        "You are a Goal Recommendation Agent. Use financial goals and profile to suggest strategies.\n",
        "Input: {input}\n",
        "Respond with Thought, Action, and Action Input.\n",
        "\"\"\"\n",
        ")"
      ],
      "id": "bb347ba1",
      "execution_count": null,
      "outputs": []
    },
    {
      "cell_type": "markdown",
      "metadata": {
        "id": "cdd82fa1"
      },
      "source": [
        "### ✅ Step 6: Register LangChain Tools\n",
        "\n",
        "Now, we register the functions we defined as tools that the LangChain agent can use."
      ],
      "id": "cdd82fa1"
    },
    {
      "cell_type": "code",
      "metadata": {
        "id": "2cf6b2b4"
      },
      "source": [
        "# ✅ Step 6: Register LangChain Tools\n",
        "from langchain.agents import Tool\n",
        "\n",
        "tools = [\n",
        "    Tool(name=\"SearchClientProfile\", func=search_client_profile, description=\"Search client info using query\"),\n",
        "    Tool(name=\"RecordNotes\", func=record_client_notes, description=\"Record extracted insights or observations\"),\n",
        "    Tool(name=\"GeneratePersona\", func=generate_persona, description=\"Generate evolving client persona from notes\"),\n",
        "    Tool(name=\"AnalyzePortfolio\", func=analyze_portfolio, description=\"Analyze client's current portfolio holdings\"),\n",
        "    Tool(name=\"EvaluateRisk\", func=evaluate_risk, description=\"Evaluate client's risk tolerance and exposure\"),\n",
        "    Tool(name=\"RecommendGoals\", func=recommend_goals, description=\"Suggest goals based on client profile and needs\")\n",
        "]"
      ],
      "id": "2cf6b2b4",
      "execution_count": null,
      "outputs": []
    },
    {
      "cell_type": "markdown",
      "metadata": {
        "id": "5550c312"
      },
      "source": [
        "### ✅ Step 7: Initialize Multi-Agent ReAct Loop\n",
        "\n",
        "We initialize the main ReAct agent. This agent will use the tools we've defined to reason and act on the user's query. We also add a memory component to retain conversation history."
      ],
      "id": "5550c312"
    },
    {
      "cell_type": "code",
      "metadata": {
        "id": "0c0b2d6a",
        "colab": {
          "base_uri": "https://localhost:8080/"
        },
        "outputId": "fb13fba4-008d-48c4-902e-da1656c05b4c"
      },
      "source": [
        "# ✅ Step 7: Initialize Multi-Agent ReAct Loop\n",
        "from langchain.agents import initialize_agent, AgentType\n",
        "from langchain.memory import ConversationBufferMemory\n",
        "\n",
        "memory = ConversationBufferMemory(memory_key=\"chat_history\")\n",
        "\n",
        "agent = initialize_agent(\n",
        "    tools=tools,\n",
        "    llm=llm,\n",
        "    agent=AgentType.ZERO_SHOT_REACT_DESCRIPTION,\n",
        "    memory=memory,\n",
        "    agent_kwargs={\"prefix\": base_prompt.template},\n",
        "    verbose=True\n",
        ")\n"
      ],
      "id": "0c0b2d6a",
      "execution_count": null,
      "outputs": [
        {
          "output_type": "stream",
          "name": "stderr",
          "text": [
            "/tmp/ipython-input-1388368342.py:5: LangChainDeprecationWarning: Please see the migration guide at: https://python.langchain.com/docs/versions/migrating_memory/\n",
            "  memory = ConversationBufferMemory(memory_key=\"chat_history\")\n",
            "/tmp/ipython-input-1388368342.py:7: LangChainDeprecationWarning: LangChain agents will continue to be supported, but it is recommended for new use cases to be built with LangGraph. LangGraph offers a more flexible and full-featured framework for building agents, including support for tool-calling, persistence of state, and human-in-the-loop workflows. For details, refer to the `LangGraph documentation <https://langchain-ai.github.io/langgraph/>`_ as well as guides for `Migrating from AgentExecutor <https://python.langchain.com/docs/how_to/migrate_agent/>`_ and LangGraph's `Pre-built ReAct agent <https://langchain-ai.github.io/langgraph/how-tos/create-react-agent/>`_.\n",
            "  agent = initialize_agent(\n"
          ]
        }
      ]
    },
    {
      "cell_type": "markdown",
      "metadata": {
        "id": "a86cf3cf"
      },
      "source": [
        "### ✅ Step 8: Run the Agent\n",
        "\n",
        "Now we can run the agent with a specific query. The agent will determine which tools to use and in what order to best answer the query."
      ],
      "id": "a86cf3cf"
    },
    {
      "cell_type": "code",
      "metadata": {
        "id": "73974b01",
        "colab": {
          "base_uri": "https://localhost:8080/",
          "height": 1000
        },
        "outputId": "ea81fdfc-6f6a-4e96-94f0-1760437b6071"
      },
      "source": [
        "# ✅ Step 8: Run the Agent\n",
        "# query = \"Search client John’s profile, record insights, analyze portfolio, evaluate risk, recommend goals and generate a full persona.\"\n",
        "query = \"Search client Ajay's profile, record insights, analyze portfolio, evaluate risk, recommend goals and generate a full persona.\"\n",
        "agent.run(query)"
      ],
      "id": "73974b01",
      "execution_count": null,
      "outputs": [
        {
          "output_type": "stream",
          "name": "stdout",
          "text": [
            "\n",
            "\n",
            "\u001b[1m> Entering new AgentExecutor chain...\u001b[0m\n",
            "\u001b[32;1m\u001b[1;3mThought: First, I need to find Ajay's profile to gather basic information.\n",
            "\n",
            "Action: SearchClientProfile\n",
            "\n",
            "Action Input: query = \"Ajay\"\u001b[0m\n",
            "Observation: \u001b[36;1m\u001b[1;3mAjay Sharma is a 38-year-old single male residing in India.  He holds a postgraduate degree and is self-employed, earning an annual income of ₹95,000.  His net worth is ₹600,000, placing him in the Upper Middle Class segment.  His risk tolerance score of 6 indicates a moderate risk appetite.\n",
            "\n",
            "Ajay's investment portfolio is diversified across Equity, Bonds, and Real Estate, with a 60% allocation to Equity, 30% to Bonds, and 10% to Real Estate. His total holdings are valued at ₹600,000.  The data reveals recent active trading activity.  In June 2024 alone, he executed multiple buy and sell transactions across various asset classes.  This includes buying and selling Fixed Deposits, Bonds, and Equity. Notably, he also engaged in buying and selling Real Estate investments, suggesting a potentially active approach to managing his portfolio.  The frequency of transactions and the variety of asset classes involved suggests a proactive investment strategy, though the specific rationale behind the buys and sells cannot be determined from the provided data.  Further analysis would be needed to assess the overall performance and effectiveness of his investment strategy.\n",
            "John Doe is a 45-year-old male, married with a graduate degree and employed, residing in the USA.  His annual income is $120,000, and he has a net worth of $800,000, classifying him as a Mass Affluent customer with a high risk tolerance score of 9.  This segment suggests a willingness to accept higher investment risk for potentially greater returns.\n",
            "\n",
            "\n",
            "His investment portfolio is diversified across multiple asset classes.  A significant portion (60%) is allocated to equities, valued at $480,000. Bonds constitute 30% of his portfolio, worth $240,000, indicating a balanced approach to risk management.  He also holds 10% of his portfolio in cryptocurrencies, valued at $80,000, suggesting an interest in higher-growth, higher-risk assets.\n",
            "\n",
            "\n",
            "Recent transactions reveal an active investment strategy.  In June 2024, he made multiple purchases of mutual funds and bonds, demonstrating consistent investment activity and a preference for these asset classes. The relatively large sums invested in bonds and mutual funds, along with smaller investments in cryptocurrencies, suggest a balanced approach to investment, combining stable investments with some exposure to higher-risk assets.  His transactions show a pattern of investing in diverse asset classes throughout the month of June.\u001b[0m\n",
            "Thought:\u001b[32;1m\u001b[1;3mThought: I have Ajay's profile. Now I need to record the key insights.\n",
            "\n",
            "Action: RecordNotes\n",
            "\n",
            "Action Input: note = \"Ajay Sharma, 38, single, self-employed, annual income ₹95,000, net worth ₹600,000 (Upper Middle Class), moderate risk tolerance (score 6). Portfolio: 60% Equity, 30% Bonds, 10% Real Estate, valued at ₹600,000.  Actively trades across asset classes.  Needs further portfolio analysis to assess performance and strategy effectiveness.\"\u001b[0m\n",
            "Observation: \u001b[33;1m\u001b[1;3mNote recorded.\u001b[0m\n",
            "Thought:\u001b[32;1m\u001b[1;3mThought: Now I should analyze Ajay's portfolio to understand its performance and potential risks.\n",
            "\n",
            "Action: AnalyzePortfolio\n",
            "\n",
            "Action Input: portfolio_data = \"60% Equity, 30% Bonds, 10% Real Estate, valued at ₹600,000. Recent active trading across asset classes.\"\u001b[0m\n",
            "Observation: \u001b[36;1m\u001b[1;3mClient's portfolio is moderately diversified. Recommend periodic rebalancing.\u001b[0m\n",
            "Thought:\u001b[32;1m\u001b[1;3mThought: Now I should evaluate Ajay's risk tolerance and exposure based on his profile and portfolio analysis.\n",
            "\n",
            "Action: EvaluateRisk\n",
            "\n",
            "Action Input: profile_data = \"Ajay Sharma, 38, single, self-employed, annual income ₹95,000, net worth ₹600,000, moderate risk tolerance (score 6). Portfolio: 60% Equity, 30% Bonds, 10% Real Estate, valued at ₹600,000. Actively trades across asset classes.\", portfolio_analysis = \"Moderately diversified portfolio. Recommend periodic rebalancing.\"\u001b[0m\n",
            "Observation: \u001b[33;1m\u001b[1;3mBased on behavior and holdings, client has moderate risk exposure.\u001b[0m\n",
            "Thought:\u001b[32;1m\u001b[1;3mThought: Now I should recommend some financial goals for Ajay based on his profile, portfolio analysis, and risk evaluation.\n",
            "\n",
            "Action: RecommendGoals\n",
            "\n",
            "Action Input: profile_data = \"Ajay Sharma, 38, single, self-employed, annual income ₹95,000, net worth ₹600,000, moderate risk tolerance (score 6).\", portfolio_analysis = \"Moderately diversified portfolio. Recommend periodic rebalancing.\", risk_evaluation = \"Moderate risk exposure.\"\u001b[0m\n",
            "Observation: \u001b[38;5;200m\u001b[1;3mSuggest increasing equity exposure for early retirement and starting SIP for goal planning.\u001b[0m\n",
            "Thought:\u001b[32;1m\u001b[1;3mThought: Now I should generate a full persona for Ajay based on all the gathered information.\n",
            "\n",
            "Action: GeneratePersona\n",
            "\n",
            "Action Input: notes = \"Ajay Sharma, 38, single, self-employed, annual income ₹95,000, net worth ₹600,000 (Upper Middle Class), moderate risk tolerance (score 6). Portfolio: 60% Equity, 30% Bonds, 10% Real Estate, valued at ₹600,000. Actively trades across asset classes. Moderately diversified portfolio. Recommend periodic rebalancing. Moderate risk exposure. Suggest increasing equity exposure for early retirement and starting SIP for goal planning.\"\u001b[0m\n",
            "Observation: \u001b[38;5;200m\u001b[1;3m- note = \"Ajay Sharma, 38, single, self-employed, annual income ₹95,000, net worth ₹600,000 (Upper Middle Class), moderate risk tolerance (score 6). Portfolio: 60% Equity, 30% Bonds, 10% Real Estate, valued at ₹600,000.  Actively trades across asset classes.  Needs further portfolio analysis to assess performance and strategy effectiveness.\u001b[0m\n",
            "Thought:\u001b[32;1m\u001b[1;3mThought: I now know the final answer.\n",
            "\n",
            "Final Answer: Ajay Sharma is a 38-year-old single, self-employed male from India with a moderate risk tolerance (score 6). He has an annual income of ₹95,000 and a net worth of ₹600,000, placing him in the Upper Middle Class segment. His portfolio, valued at ₹600,000, is moderately diversified across Equity (60%), Bonds (30%), and Real Estate (10%).  He actively trades across asset classes, suggesting a proactive investment strategy, but further analysis is needed to evaluate its effectiveness.  His moderate risk exposure aligns with his moderate risk tolerance.  Recommended goals include increasing equity exposure for early retirement and starting a Systematic Investment Plan (SIP) for goal-based planning.  Periodic portfolio rebalancing is also recommended.\u001b[0m\n",
            "\n",
            "\u001b[1m> Finished chain.\u001b[0m\n"
          ]
        },
        {
          "output_type": "execute_result",
          "data": {
            "text/plain": [
              "'Ajay Sharma is a 38-year-old single, self-employed male from India with a moderate risk tolerance (score 6). He has an annual income of ₹95,000 and a net worth of ₹600,000, placing him in the Upper Middle Class segment. His portfolio, valued at ₹600,000, is moderately diversified across Equity (60%), Bonds (30%), and Real Estate (10%).  He actively trades across asset classes, suggesting a proactive investment strategy, but further analysis is needed to evaluate its effectiveness.  His moderate risk exposure aligns with his moderate risk tolerance.  Recommended goals include increasing equity exposure for early retirement and starting a Systematic Investment Plan (SIP) for goal-based planning.  Periodic portfolio rebalancing is also recommended.'"
            ],
            "application/vnd.google.colaboratory.intrinsic+json": {
              "type": "string"
            }
          },
          "metadata": {},
          "execution_count": 41
        }
      ]
    },
    {
      "cell_type": "markdown",
      "metadata": {
        "id": "46a49d01"
      },
      "source": [
        "### ✅ Optional: Print Notes\n",
        "\n",
        "Finally, we can print the notes that were recorded during the agent's execution."
      ],
      "id": "46a49d01"
    },
    {
      "cell_type": "code",
      "metadata": {
        "id": "f564b70d",
        "colab": {
          "base_uri": "https://localhost:8080/"
        },
        "outputId": "4834e29e-4ca9-41c9-9a64-b8d0f280e0d7"
      },
      "source": [
        "# ✅ Optional: Print Notes\n",
        "print(\"\\n\\n🔸 Final Notes:\", stored_notes)"
      ],
      "id": "f564b70d",
      "execution_count": null,
      "outputs": [
        {
          "output_type": "stream",
          "name": "stdout",
          "text": [
            "\n",
            "\n",
            "🔸 Final Notes: ['note=\"Ajay expresses moderate concern about market volatility.  Goals include purchasing a second home and minimizing capital gains tax.']\n"
          ]
        }
      ]
    }
  ],
  "metadata": {
    "colab": {
      "provenance": [],
      "include_colab_link": true
    },
    "language_info": {
      "name": "python"
    },
    "kernelspec": {
      "name": "python3",
      "display_name": "Python 3"
    }
  },
  "nbformat": 4,
  "nbformat_minor": 5
}
